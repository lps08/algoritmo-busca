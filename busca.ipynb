{
 "cells": [
  {
   "cell_type": "markdown",
   "metadata": {},
   "source": [
    "## Definindo a classe Nó para a arvore"
   ]
  },
  {
   "cell_type": "code",
   "execution_count": 2,
   "metadata": {},
   "outputs": [],
   "source": [
    "class No:\n",
    "    def __init__(self, data):\n",
    "        \"\"\"\n",
    "            Classe responsavel pela estrutura nó\n",
    "        \"\"\"\n",
    "        self.data = data\n",
    "        self.filhos = []\n",
    "        self.pai = self\n",
    "\n",
    "    def add(self, child):\n",
    "        \"\"\"\n",
    "            Adiciona um filho a lista de filhos\n",
    "        \"\"\"\n",
    "        child.pai = self\n",
    "        self.filhos.append(child)\n",
    "\n",
    "    def __eq__(self, no):\n",
    "        \"\"\"\n",
    "            Método necessário para realizar comparações\n",
    "        \"\"\"\n",
    "        return self.data == no.data\n",
    "\n",
    "    def __str__(self):\n",
    "        \"\"\"\n",
    "            Método que printa a self.data quando o objeto\n",
    "            é chamado no print\n",
    "        \"\"\"\n",
    "        return self.data"
   ]
  },
  {
   "cell_type": "code",
   "execution_count": 3,
   "metadata": {},
   "outputs": [],
   "source": [
    "nA = No('A')\n",
    "nB = No('B')\n",
    "nC = No('C')\n",
    "nD = No('D')\n",
    "nE = No('E')\n",
    "nF = No('F')\n",
    "nG = No('G')"
   ]
  },
  {
   "cell_type": "code",
   "execution_count": 4,
   "metadata": {},
   "outputs": [],
   "source": [
    "nA.add(nB)\n",
    "nA.add(nC)\n",
    "nB.add(nD)\n",
    "nB.add(nE)\n",
    "nC.add(nF)\n",
    "nC.add(nG)"
   ]
  },
  {
   "cell_type": "markdown",
   "metadata": {},
   "source": [
    "## Busca em largura"
   ]
  },
  {
   "cell_type": "code",
   "execution_count": 5,
   "metadata": {},
   "outputs": [],
   "source": [
    "def buscaLargura(estado_inicial:No, estado_objetivo:No):\n",
    "    # lista com os vizinhos a ser visitados\n",
    "    estados_visitados = []\n",
    "    # lista com os vizinhos a ser visitados\n",
    "    para_visitar = [estado_inicial]\n",
    "\n",
    "    while len(para_visitar) != 0:\n",
    "        # pega o primeiro visinho da lista para verificar se é o estado objetivo\n",
    "        visitar = para_visitar.pop(0)\n",
    "\n",
    "        # verifica se é o vizinho objetivo\n",
    "        if visitar.data == estado_objetivo.data:\n",
    "            # appenda o vizinho objetivo\n",
    "            estados_visitados.append(visitar)\n",
    "            # retorna o caminho com os vizinhos em ordem na lista\n",
    "            return estados_visitados\n",
    "\n",
    "        # se n for o objetivo, adiciona aos vizinhos visitados\n",
    "        estados_visitados.append(visitar)\n",
    "\n",
    "        # verifica se se tem filhos no nó\n",
    "        if len(visitar.filhos) != 0:\n",
    "            nao_visitados = [x for x in visitar.filhos if x not in estados_visitados]\n",
    "            para_visitar.extend(nao_visitados)\n",
    "\n",
    "    return None"
   ]
  },
  {
   "cell_type": "code",
   "execution_count": 6,
   "metadata": {},
   "outputs": [
    {
     "name": "stdout",
     "output_type": "stream",
     "text": [
      "A\n",
      "B\n",
      "C\n"
     ]
    }
   ],
   "source": [
    "res = buscaLargura(nA, nC)\n",
    "\n",
    "for i in res:\n",
    "    print(i.data)"
   ]
  },
  {
   "cell_type": "markdown",
   "metadata": {},
   "source": [
    "## Busca em profundidade"
   ]
  },
  {
   "cell_type": "code",
   "execution_count": 7,
   "metadata": {},
   "outputs": [],
   "source": [
    "def buscaProfundidade(estado_inicial:No, estado_objetivo:No):\n",
    "    # listas de estados visitados\n",
    "    estados_visitados = []\n",
    "\n",
    "    # lista de estados para visitar\n",
    "    para_visitar = [estado_inicial] #tipo PILHA\n",
    "\n",
    "    while len(para_visitar) != 0:\n",
    "        # pega o ultimo valor adicionado, mantendo o tipo pilha\n",
    "        visitar = para_visitar.pop(-1)\n",
    "\n",
    "        # verifica se é o vizinho objetivo\n",
    "        if visitar == estado_objetivo:\n",
    "            # appende o vizinho objetivo\n",
    "            estados_visitados.append(visitar)\n",
    "            # retorna a lista do caminho encontrado\n",
    "            return estados_visitados\n",
    "\n",
    "        # se n for o objetivo, adiciona aos vizinhos visitados\n",
    "        estados_visitados.append(visitar)\n",
    "\n",
    "        # verifica se tem filhos no nó\n",
    "        if len(visitar.filhos) != 0:\n",
    "            nao_visitados = [x for x in visitar.filhos if x not in estados_visitados]\n",
    "            para_visitar.extend(nao_visitados)\n",
    "\n",
    "    return None"
   ]
  },
  {
   "cell_type": "code",
   "execution_count": 8,
   "metadata": {},
   "outputs": [
    {
     "name": "stdout",
     "output_type": "stream",
     "text": [
      "A\n",
      "C\n",
      "G\n"
     ]
    }
   ],
   "source": [
    "res = buscaProfundidade(nA, nG)\n",
    "\n",
    "for i in res:\n",
    "    print(i)"
   ]
  },
  {
   "cell_type": "markdown",
   "metadata": {},
   "source": [
    "## Busca em profundidade limitada"
   ]
  },
  {
   "cell_type": "code",
   "execution_count": 27,
   "metadata": {},
   "outputs": [],
   "source": [
    "def buscaProfundidadeLimitada(estado_inicial:No, estado_objetivo:No, limite:int):\n",
    "    # listas de estados visitados\n",
    "    estados_visitados = []\n",
    "\n",
    "    # profundidade\n",
    "    cont = 0\n",
    "\n",
    "    # lista de estados para visitar\n",
    "    para_visitar = [estado_inicial] #tipo PILHA\n",
    "\n",
    "    while len(para_visitar) != 0:\n",
    "        # pega o ultimo valor adicionado, mantendo o tipo pilha\n",
    "        visitar = para_visitar.pop(-1)\n",
    "\n",
    "        # verifica se é o vizinho objetivo\n",
    "        if visitar == estado_objetivo:\n",
    "            # appende o vizinho objetivo\n",
    "            estados_visitados.append(visitar)\n",
    "            # retorna a lista do caminho encontrado\n",
    "            return estados_visitados\n",
    "\n",
    "        # se n for o objetivo, adiciona aos vizinhos visitados\n",
    "        estados_visitados.append(visitar)\n",
    "\n",
    "        # verifica se tem filhos no nó\n",
    "        if len(visitar.filhos) != 0:\n",
    "            # verifica se chegou no limite\n",
    "            if cont < limite:\n",
    "                nao_visitados = [x for x in visitar.filhos if x not in estados_visitados]\n",
    "\n",
    "            # caso chegue, volta para a posição inicial e visitar outros vizinhos\n",
    "            else:\n",
    "                nao_visitados = [x for x in estado_inicial.filhos if x not in estados_visitados] \n",
    "                cont = 0\n",
    "\n",
    "            para_visitar.extend(nao_visitados)\n",
    "\n",
    "        cont+=1\n",
    "    raise Exception('Numero máximo de limite atingido!\\nNao foi possivel encontrar o estado.!!')"
   ]
  },
  {
   "cell_type": "code",
   "execution_count": 29,
   "metadata": {},
   "outputs": [
    {
     "name": "stdout",
     "output_type": "stream",
     "text": [
      "A\n",
      "C\n",
      "G\n"
     ]
    }
   ],
   "source": [
    "res = buscaProfundidadeLimitada(nA, nG, 2)\n",
    "\n",
    "for i in res:\n",
    "    print(i)"
   ]
  },
  {
   "cell_type": "code",
   "execution_count": null,
   "metadata": {},
   "outputs": [],
   "source": []
  }
 ],
 "metadata": {
  "interpreter": {
   "hash": "cbe59bc8e43c33e263d0ddce44ad7ec5ba3f57d4d2daa17d616eb06d4130f325"
  },
  "kernelspec": {
   "display_name": "Python 3.8.11 64-bit ('ia': conda)",
   "language": "python",
   "name": "python3"
  },
  "language_info": {
   "codemirror_mode": {
    "name": "ipython",
    "version": 3
   },
   "file_extension": ".py",
   "mimetype": "text/x-python",
   "name": "python",
   "nbconvert_exporter": "python",
   "pygments_lexer": "ipython3",
   "version": "3.8.11"
  },
  "orig_nbformat": 4
 },
 "nbformat": 4,
 "nbformat_minor": 2
}
