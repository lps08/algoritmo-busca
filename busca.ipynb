{
 "cells": [
  {
   "cell_type": "markdown",
   "metadata": {},
   "source": [
    "## Definindo a classe Nó para a arvore"
   ]
  },
  {
   "cell_type": "code",
   "execution_count": 30,
   "metadata": {},
   "outputs": [],
   "source": [
    "class No:\n",
    "    def __init__(self, data):\n",
    "        self.data = data\n",
    "        self.filhos = []\n",
    "        self.pai = self\n",
    "\n",
    "    def add_child(self, child):\n",
    "        child.pai = self\n",
    "        self.filhos.append(child)"
   ]
  },
  {
   "cell_type": "code",
   "execution_count": 37,
   "metadata": {},
   "outputs": [
    {
     "data": {
      "text/plain": [
       "'A'"
      ]
     },
     "execution_count": 37,
     "metadata": {},
     "output_type": "execute_result"
    }
   ],
   "source": [
    "no1 = No('A')\n",
    "\n",
    "no1.add_child(No('B'))\n",
    "\n",
    "no1.add_child(No('C'))\n",
    "\n",
    "no1.filhos[1].pai.data"
   ]
  },
  {
   "cell_type": "markdown",
   "metadata": {},
   "source": [
    "## Busca em largura"
   ]
  },
  {
   "cell_type": "code",
   "execution_count": null,
   "metadata": {},
   "outputs": [],
   "source": [
    "def buscaLargura(estado_inicial:No, estado_objetivo:No):\n",
    "    # lista com os vizinhos a ser visitados\n",
    "    estados_visitados = []\n",
    "    # lista com os vizinhos a ser visitados\n",
    "    para_visitar = [estado_inicial]\n",
    "\n",
    "    while len(para_visitar) != 0:\n",
    "        # pega o primeiro visinho da lista para verificar se é o estado objetivo\n",
    "        visitar = para_visitar.pop(0)\n",
    "\n",
    "        # verifica se é o vizinho objetivo\n",
    "        if visitar == estado_objetivo:\n",
    "            # appenda o vizinho objetivo\n",
    "            estados_visitados.append(visitar)\n",
    "            # retorna o caminho com os vizinhos em ordem na lista\n",
    "            return estados_visitados\n",
    "\n",
    "        # se n for o objetivo, adiciona aos vizinhos visitados\n",
    "        estados_visitados.append(visitar)\n",
    "\n",
    "        # verifica se se tem filhos no nó\n",
    "        if len(visitar.filhos) != 0:\n",
    "            para_visitar.extend(visitar.filhos)\n",
    "\n",
    "    return None"
   ]
  },
  {
   "cell_type": "markdown",
   "metadata": {},
   "source": [
    "## Busca em profundidade"
   ]
  },
  {
   "cell_type": "code",
   "execution_count": null,
   "metadata": {},
   "outputs": [],
   "source": [
    "def buscaProfundidade(estado_inicial:No, estado_objetivo:No):\n",
    "    # listas de estados visitados\n",
    "    estados_visitados = []\n",
    "\n",
    "    # lista de estados para visitar\n",
    "    para_visitar = [estado_inicial] #tipo PILHA\n",
    "\n",
    "    while len(para_visitar) != 0:\n",
    "        # pega o ultimo valor adicionado, mantendo o tipo pilha\n",
    "        visitar = para_visitar.pop(-1)\n",
    "\n",
    "        # verifica se é o vizinho objetivo\n",
    "        if visitar == estado_objetivo:\n",
    "            # appende o vizinho objetivo\n",
    "            estados_visitados.append(visitar)\n",
    "            # retorna a lista do caminho encontrado\n",
    "            return estados_visitados\n",
    "\n",
    "        # se n for o objetivo, adiciona aos vizinhos visitados\n",
    "        estados_visitados.append(visitar)\n",
    "\n",
    "        # verifica se tem filhos no nó\n",
    "        if len(visitar.filhos) != 0:\n",
    "            para_visitar.extend(visitar.filhos)\n",
    "\n",
    "    return None"
   ]
  }
 ],
 "metadata": {
  "interpreter": {
   "hash": "cbe59bc8e43c33e263d0ddce44ad7ec5ba3f57d4d2daa17d616eb06d4130f325"
  },
  "kernelspec": {
   "display_name": "Python 3.8.11 64-bit ('ia': conda)",
   "language": "python",
   "name": "python3"
  },
  "language_info": {
   "codemirror_mode": {
    "name": "ipython",
    "version": 3
   },
   "file_extension": ".py",
   "mimetype": "text/x-python",
   "name": "python",
   "nbconvert_exporter": "python",
   "pygments_lexer": "ipython3",
   "version": "3.8.11"
  },
  "orig_nbformat": 4
 },
 "nbformat": 4,
 "nbformat_minor": 2
}
