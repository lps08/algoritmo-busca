{
 "cells": [
  {
   "cell_type": "markdown",
   "metadata": {},
   "source": [
    "## Definindo a classe Nó para a arvore"
   ]
  },
  {
   "cell_type": "code",
   "execution_count": 95,
   "metadata": {},
   "outputs": [],
   "source": [
    "class No:\n",
    "    def __init__(self, data):\n",
    "        \"\"\"\n",
    "            Classe responsavel pela estrutura nó\n",
    "        \"\"\"\n",
    "        self.data = data\n",
    "        self.filhos = []\n",
    "        self.pai = self\n",
    "\n",
    "    def add(self, child):\n",
    "        \"\"\"\n",
    "            Adiciona um filho a lista de filhos\n",
    "        \"\"\"\n",
    "        child.pai = self\n",
    "        self.filhos.append(child)\n",
    "\n",
    "    def __eq__(self, no):\n",
    "        \"\"\"\n",
    "            Método necessário para realizar comparações\n",
    "        \"\"\"\n",
    "        return self.data == no.data\n",
    "\n",
    "    def __str__(self):\n",
    "        \"\"\"\n",
    "            Método que printa a self.data quando o objeto\n",
    "            é chamado no print\n",
    "        \"\"\"\n",
    "        return self.data"
   ]
  },
  {
   "cell_type": "code",
   "execution_count": 96,
   "metadata": {},
   "outputs": [],
   "source": [
    "arad = No('arad')\n",
    "bucharest = No('bucharest')\n",
    "craiova = No('craiova')\n",
    "dobreta = No('dobreta')\n",
    "eforie = No('eforie')\n",
    "fagaras = No('fagaras')\n",
    "giurgiu = No('giurgiu')\n",
    "hirsova = No('hirsova')\n",
    "iasi = No('iasi')\n",
    "lugoj = No('lugoj')\n",
    "mechadia = No('mechadia')\n",
    "neamt = No('neamt')\n",
    "oradea = No('oradea')\n",
    "pitesti = No('pitesti')\n",
    "rimnieu = No('rimnieu')\n",
    "sibiu = No('sibiu')\n",
    "timisoara = No('timisoara')\n",
    "urzieeni = No('urzieeni')\n",
    "vaslui = No('vaslui')\n",
    "zerind = No('zerind')"
   ]
  },
  {
   "cell_type": "code",
   "execution_count": 97,
   "metadata": {},
   "outputs": [],
   "source": [
    "arad.add(zerind)\n",
    "arad.add(timisoara)\n",
    "arad.add(sibiu)\n",
    "timisoara.add(arad)\n",
    "timisoara.add(lugoj)\n",
    "zerind.add(arad)\n",
    "zerind.add(oradea)\n",
    "lugoj.add(timisoara)\n",
    "lugoj.add(mechadia)\n",
    "oradea.add(zerind)\n",
    "oradea.add(sibiu)\n",
    "mechadia.add(lugoj)\n",
    "mechadia.add(dobreta)\n",
    "dobreta.add(mechadia)\n",
    "dobreta.add(craiova)\n",
    "sibiu.add(oradea)\n",
    "sibiu.add(arad)\n",
    "sibiu.add(fagaras)\n",
    "sibiu.add(rimnieu)\n",
    "craiova.add(dobreta)\n",
    "craiova.add(rimnieu)\n",
    "craiova.add(pitesti)\n",
    "rimnieu.add(sibiu)\n",
    "rimnieu.add(pitesti)\n",
    "rimnieu.add(craiova)\n",
    "fagaras.add(sibiu)\n",
    "fagaras.add(bucharest)\n",
    "pitesti.add(rimnieu)\n",
    "pitesti.add(craiova)\n",
    "pitesti.add(bucharest)\n",
    "bucharest.add(fagaras)\n",
    "bucharest.add(pitesti)\n",
    "bucharest.add(giurgiu)\n",
    "bucharest.add(urzieeni)\n",
    "urzieeni.add(vaslui)\n",
    "urzieeni.add(hirsova)\n",
    "hirsova.add(urzieeni)\n",
    "hirsova.add(eforie)\n",
    "vaslui.add(urzieeni)\n",
    "vaslui.add(iasi)\n",
    "iasi.add(vaslui)\n",
    "iasi.add(neamt)"
   ]
  },
  {
   "cell_type": "markdown",
   "metadata": {},
   "source": [
    "## Busca em largura"
   ]
  },
  {
   "cell_type": "code",
   "execution_count": 98,
   "metadata": {},
   "outputs": [],
   "source": [
    "def buscaLargura(estado_inicial:No, estado_objetivo:No):\n",
    "    # lista com os vizinhos a ser visitados\n",
    "    estados_visitados = []\n",
    "    # lista com os vizinhos a ser visitados\n",
    "    para_visitar = [estado_inicial]\n",
    "\n",
    "    while len(para_visitar) != 0:\n",
    "        # pega o primeiro visinho da lista para verificar se é o estado objetivo\n",
    "        visitar = para_visitar.pop(0)\n",
    "\n",
    "        # verifica se é o vizinho objetivo\n",
    "        if visitar.data == estado_objetivo.data:\n",
    "            # appenda o vizinho objetivo\n",
    "            estados_visitados.append(visitar)\n",
    "            # retorna o caminho com os vizinhos em ordem na lista\n",
    "            return estados_visitados\n",
    "\n",
    "        # se n for o objetivo, adiciona aos vizinhos visitados\n",
    "        estados_visitados.append(visitar)\n",
    "\n",
    "        # verifica se se tem filhos no nó\n",
    "        if len(visitar.filhos) != 0:\n",
    "            nao_visitados = [x for x in visitar.filhos if x not in estados_visitados]\n",
    "            para_visitar.extend(nao_visitados)\n",
    "\n",
    "    raise Exception('Objetivo não encontrado!')"
   ]
  },
  {
   "cell_type": "code",
   "execution_count": 99,
   "metadata": {},
   "outputs": [
    {
     "name": "stdout",
     "output_type": "stream",
     "text": [
      "arad\n",
      "zerind\n",
      "timisoara\n",
      "sibiu\n",
      "oradea\n",
      "lugoj\n",
      "oradea\n",
      "fagaras\n",
      "rimnieu\n",
      "mechadia\n",
      "bucharest\n"
     ]
    }
   ],
   "source": [
    "res = buscaLargura(arad, bucharest)\n",
    "\n",
    "for i in res:\n",
    "    print(i.data)"
   ]
  },
  {
   "cell_type": "markdown",
   "metadata": {},
   "source": [
    "## Busca em profundidade"
   ]
  },
  {
   "cell_type": "code",
   "execution_count": 100,
   "metadata": {},
   "outputs": [],
   "source": [
    "def buscaProfundidade(estado_inicial:No, estado_objetivo:No):\n",
    "    # listas de estados visitados\n",
    "    estados_visitados = []\n",
    "\n",
    "    # lista de estados para visitar\n",
    "    para_visitar = [estado_inicial] #tipo PILHA\n",
    "\n",
    "    while len(para_visitar) != 0:\n",
    "        # pega o ultimo valor adicionado, mantendo o tipo pilha\n",
    "        visitar = para_visitar.pop(-1)\n",
    "\n",
    "        # verifica se é o vizinho objetivo\n",
    "        if visitar == estado_objetivo:\n",
    "            # appende o vizinho objetivo\n",
    "            estados_visitados.append(visitar)\n",
    "            # retorna a lista do caminho encontrado\n",
    "            return estados_visitados\n",
    "\n",
    "        # se n for o objetivo, adiciona aos vizinhos visitados\n",
    "        estados_visitados.append(visitar)\n",
    "\n",
    "        # verifica se tem filhos no nó\n",
    "        if len(visitar.filhos) != 0:\n",
    "            nao_visitados = [x for x in visitar.filhos if x not in estados_visitados]\n",
    "            para_visitar.extend(nao_visitados)\n",
    "\n",
    "    raise Exception('Objetivo não encontrado!')"
   ]
  },
  {
   "cell_type": "code",
   "execution_count": 101,
   "metadata": {},
   "outputs": [
    {
     "name": "stdout",
     "output_type": "stream",
     "text": [
      "arad\n",
      "sibiu\n",
      "rimnieu\n",
      "craiova\n",
      "pitesti\n",
      "bucharest\n"
     ]
    }
   ],
   "source": [
    "res = buscaProfundidade(arad, bucharest)\n",
    "\n",
    "for i in res:\n",
    "    print(i)"
   ]
  },
  {
   "cell_type": "markdown",
   "metadata": {},
   "source": [
    "## Busca em profundidade limitada"
   ]
  },
  {
   "cell_type": "code",
   "execution_count": 102,
   "metadata": {},
   "outputs": [],
   "source": [
    "def buscaProfundidadeLimitada(estado_inicial:No, estado_objetivo:No, limite:int):\n",
    "    # listas de estados visitados\n",
    "    estados_visitados = []\n",
    "\n",
    "    # profundidade\n",
    "    cont = 0\n",
    "\n",
    "    # lista de estados para visitar\n",
    "    para_visitar = [estado_inicial] #tipo PILHA\n",
    "\n",
    "    while len(para_visitar) != 0:\n",
    "        # pega o ultimo valor adicionado, mantendo o tipo pilha\n",
    "        visitar = para_visitar.pop(-1)\n",
    "\n",
    "        # verifica se é o vizinho objetivo\n",
    "        if visitar == estado_objetivo:\n",
    "            # appende o vizinho objetivo\n",
    "            estados_visitados.append(visitar)\n",
    "            # retorna a lista do caminho encontrado\n",
    "            return estados_visitados\n",
    "\n",
    "        # se n for o objetivo, adiciona aos vizinhos visitados\n",
    "        estados_visitados.append(visitar)\n",
    "\n",
    "        # verifica se tem filhos no nó\n",
    "        if len(visitar.filhos) != 0:\n",
    "            # verifica se chegou no limite\n",
    "            if cont < limite:\n",
    "                nao_visitados = [x for x in visitar.filhos if x not in estados_visitados]\n",
    "\n",
    "            # caso chegue, volta para a posição inicial e visitar outros vizinhos\n",
    "            else:\n",
    "                nao_visitados = [x for x in estado_inicial.filhos if x not in estados_visitados] \n",
    "                cont = 0\n",
    "\n",
    "            para_visitar.extend(nao_visitados)\n",
    "\n",
    "        cont+=1\n",
    "        \n",
    "    raise Exception('Numero máximo de limite atingido!\\nNao foi possivel encontrar o estado.!!')"
   ]
  },
  {
   "cell_type": "code",
   "execution_count": 108,
   "metadata": {},
   "outputs": [
    {
     "name": "stdout",
     "output_type": "stream",
     "text": [
      "arad\n",
      "sibiu\n",
      "rimnieu\n",
      "craiova\n",
      "timisoara\n",
      "lugoj\n",
      "mechadia\n",
      "zerind\n",
      "oradea\n",
      "zerind\n",
      "pitesti\n",
      "bucharest\n"
     ]
    }
   ],
   "source": [
    "#precisa de 3 nivel de profundidade para chegar ao objetivo\n",
    "res = buscaProfundidadeLimitada(arad, bucharest, 3)\n",
    "\n",
    "for i in res:\n",
    "    print(i)"
   ]
  },
  {
   "cell_type": "markdown",
   "metadata": {},
   "source": [
    "## Busca gulosa"
   ]
  },
  {
   "cell_type": "markdown",
   "metadata": {},
   "source": [
    "Herdando a classe nó para adicionar a propriedade de distancia do ponto objetivo"
   ]
  },
  {
   "cell_type": "code",
   "execution_count": 13,
   "metadata": {},
   "outputs": [],
   "source": [
    "class NoGulosa(No):\n",
    "    def __init__(self, data, distancia):\n",
    "        super().__init__(data)\n",
    "\n",
    "        self.distancia = distancia\n",
    "\n",
    "    def __lt__(self, no):\n",
    "        \"\"\"\n",
    "            Compara objetos em relação a distancia usando o operador '<'\n",
    "            https://docs.python.org/2.7/reference/datamodel.html#object.__lt__\n",
    "        \"\"\"\n",
    "        return self.distancia < no.distancia"
   ]
  },
  {
   "cell_type": "code",
   "execution_count": 90,
   "metadata": {},
   "outputs": [],
   "source": [
    "arad = NoGulosa('arad', 366)\n",
    "bucharest = NoGulosa('bucharest', 0)\n",
    "craiova = NoGulosa('craiova', 160)\n",
    "dobreta = NoGulosa('dobreta', 242)\n",
    "eforie = NoGulosa('eforie', 161)\n",
    "fagaras = NoGulosa('fagaras', 178)\n",
    "giurgiu = NoGulosa('giurgiu', 77)\n",
    "hirsova = NoGulosa('hirsova', 151)\n",
    "iasi = NoGulosa('iasi', 226)\n",
    "lugoj = NoGulosa('lugoj', 244)\n",
    "mechadia = NoGulosa('mechadia', 241)\n",
    "neamt = NoGulosa('neamt', 234)\n",
    "oradea = NoGulosa('oradea', 380)\n",
    "pitesti = NoGulosa('pitesti', 98)\n",
    "rimnieu = NoGulosa('rimnieu', 193)\n",
    "sibiu = NoGulosa('sibiu', 253)\n",
    "timisoara = NoGulosa('timisoara', 329)\n",
    "urzieeni = NoGulosa('urzieeni', 80)\n",
    "vaslui = NoGulosa('vaslui', 199)\n",
    "zerind = NoGulosa('zerind', 374)"
   ]
  },
  {
   "cell_type": "code",
   "execution_count": 91,
   "metadata": {},
   "outputs": [],
   "source": [
    "arad.add(zerind)\n",
    "arad.add(timisoara)\n",
    "arad.add(sibiu)\n",
    "timisoara.add(arad)\n",
    "timisoara.add(lugoj)\n",
    "zerind.add(arad)\n",
    "zerind.add(oradea)\n",
    "lugoj.add(timisoara)\n",
    "lugoj.add(mechadia)\n",
    "oradea.add(zerind)\n",
    "oradea.add(sibiu)\n",
    "mechadia.add(lugoj)\n",
    "mechadia.add(dobreta)\n",
    "dobreta.add(mechadia)\n",
    "dobreta.add(craiova)\n",
    "sibiu.add(oradea)\n",
    "sibiu.add(arad)\n",
    "sibiu.add(fagaras)\n",
    "sibiu.add(rimnieu)\n",
    "craiova.add(dobreta)\n",
    "craiova.add(rimnieu)\n",
    "craiova.add(pitesti)\n",
    "rimnieu.add(sibiu)\n",
    "rimnieu.add(pitesti)\n",
    "rimnieu.add(craiova)\n",
    "fagaras.add(sibiu)\n",
    "fagaras.add(bucharest)\n",
    "pitesti.add(rimnieu)\n",
    "pitesti.add(craiova)\n",
    "pitesti.add(bucharest)\n",
    "bucharest.add(fagaras)\n",
    "bucharest.add(pitesti)\n",
    "bucharest.add(giurgiu)\n",
    "bucharest.add(urzieeni)\n",
    "urzieeni.add(vaslui)\n",
    "urzieeni.add(hirsova)\n",
    "hirsova.add(urzieeni)\n",
    "hirsova.add(eforie)\n",
    "vaslui.add(urzieeni)\n",
    "vaslui.add(iasi)\n",
    "iasi.add(vaslui)\n",
    "iasi.add(neamt)"
   ]
  },
  {
   "cell_type": "code",
   "execution_count": 93,
   "metadata": {},
   "outputs": [],
   "source": [
    "def buscaGulosa(estado_inicial:NoGulosa, estado_objetivo:NoGulosa):\n",
    "    # listas de estados visitados\n",
    "    estados_visitados = []\n",
    "\n",
    "    # estado para visitar\n",
    "    para_visitar = [estado_inicial]\n",
    "\n",
    "    while len(para_visitar) != 0:\n",
    "        # pega o ultimo valor adicionado, mantendo o tipo pilha\n",
    "        visitar = para_visitar.pop(0)\n",
    "\n",
    "        # verifica se é o vizinho objetivo\n",
    "        if visitar == estado_objetivo:\n",
    "            # appende o vizinho objetivo\n",
    "            estados_visitados.append(visitar)\n",
    "            # retorna a lista do caminho encontrado\n",
    "            return estados_visitados\n",
    "\n",
    "        # se n for o objetivo, adiciona aos vizinhos visitados\n",
    "        estados_visitados.append(visitar)\n",
    "\n",
    "        # verificando melhor custo\n",
    "        if len(visitar.filhos) != 0:\n",
    "            nao_visitados = [x for x in visitar.filhos if x not in estados_visitados]\n",
    "            # pega o visinho de menor custo\n",
    "            para_visitar.append(min(nao_visitados))\n",
    "\n",
    "    raise Exception('Objetivo não encontrado!')"
   ]
  },
  {
   "cell_type": "code",
   "execution_count": 94,
   "metadata": {},
   "outputs": [
    {
     "name": "stdout",
     "output_type": "stream",
     "text": [
      "arad\n",
      "sibiu\n",
      "fagaras\n",
      "bucharest\n"
     ]
    }
   ],
   "source": [
    "res = buscaGulosa(arad, bucharest)\n",
    "\n",
    "for i in res:\n",
    "    print(i)"
   ]
  },
  {
   "cell_type": "markdown",
   "metadata": {},
   "source": [
    "## Busca A*"
   ]
  },
  {
   "cell_type": "code",
   "execution_count": 63,
   "metadata": {},
   "outputs": [],
   "source": [
    "class NoA(NoGulosa):\n",
    "    \"\"\"\n",
    "        Herda a classe usada na busca gulosa para adicionar a propriedade de \n",
    "        custo da estrada\n",
    "    \"\"\"\n",
    "    def __init__(self, data, distancia):\n",
    "        super().__init__(data, distancia)\n",
    "        \n",
    "        # dicionario tendo o custo de cada cidade\n",
    "        self.custo_estrada = {}\n",
    "\n",
    "    # reescrevendo o metodo para adicionar o custo\n",
    "    def add(self, child, custo:int):\n",
    "        \"\"\"\n",
    "            Adiciona um filho a lista de filhos juntamente com o custo\n",
    "        \"\"\"\n",
    "        child.pai = self\n",
    "        self.filhos.append(child)\n",
    "        self.custo_estrada[child.data] = custo"
   ]
  },
  {
   "cell_type": "code",
   "execution_count": 64,
   "metadata": {},
   "outputs": [],
   "source": [
    "arad = NoA('arad', 366)\n",
    "bucharest = NoA('bucharest', 0)\n",
    "craiova = NoA('craiova', 160)\n",
    "dobreta = NoA('dobreta', 242)\n",
    "eforie = NoA('eforie', 161)\n",
    "fagaras = NoA('fagaras', 178)\n",
    "giurgiu = NoA('giurgiu', 77)\n",
    "hirsova = NoA('hirsova', 151)\n",
    "iasi = NoA('iasi', 226)\n",
    "lugoj = NoA('lugoj', 244)\n",
    "mechadia = NoA('mechadia', 241)\n",
    "neamt = NoA('neamt', 234)\n",
    "oradea = NoA('oradea', 380)\n",
    "pitesti = NoA('pitesti', 98)\n",
    "rimnieu = NoA('rimnieu', 193)\n",
    "sibiu = NoA('sibiu', 253)\n",
    "timisoara = NoA('timisoara', 329)\n",
    "urzieeni = NoA('urzieeni', 80)\n",
    "vaslui = NoA('vaslui', 199)\n",
    "zerind = NoA('zerind', 374)"
   ]
  },
  {
   "cell_type": "code",
   "execution_count": 65,
   "metadata": {},
   "outputs": [],
   "source": [
    "arad.add(zerind, 75)\n",
    "arad.add(timisoara, 118)\n",
    "arad.add(sibiu, 140)\n",
    "timisoara.add(arad, 118)\n",
    "timisoara.add(lugoj, 111)\n",
    "zerind.add(arad, 75)\n",
    "zerind.add(oradea, 71)\n",
    "lugoj.add(timisoara, 111)\n",
    "lugoj.add(mechadia, 70)\n",
    "oradea.add(zerind, 71)\n",
    "oradea.add(sibiu, 151)\n",
    "mechadia.add(lugoj, 70)\n",
    "mechadia.add(dobreta, 75)\n",
    "dobreta.add(mechadia, 75)\n",
    "dobreta.add(craiova, 120)\n",
    "sibiu.add(oradea, 151)\n",
    "sibiu.add(arad, 140)\n",
    "sibiu.add(fagaras, 99)\n",
    "sibiu.add(rimnieu, 80)\n",
    "craiova.add(dobreta, 120)\n",
    "craiova.add(rimnieu, 146)\n",
    "craiova.add(pitesti, 138)\n",
    "rimnieu.add(sibiu, 80)\n",
    "rimnieu.add(pitesti, 97)\n",
    "rimnieu.add(craiova, 146)\n",
    "fagaras.add(sibiu, 99)\n",
    "fagaras.add(bucharest, 211)\n",
    "pitesti.add(rimnieu, 97)\n",
    "pitesti.add(craiova, 138)\n",
    "pitesti.add(bucharest, 101)\n",
    "bucharest.add(fagaras, 211)\n",
    "bucharest.add(pitesti, 101)\n",
    "bucharest.add(giurgiu, 90)\n",
    "bucharest.add(urzieeni, 85)\n",
    "urzieeni.add(bucharest, 85)\n",
    "urzieeni.add(vaslui, 142)\n",
    "urzieeni.add(hirsova, 98)\n",
    "hirsova.add(urzieeni, 98)\n",
    "hirsova.add(eforie, 86)\n",
    "vaslui.add(urzieeni, 142)\n",
    "vaslui.add(iasi, 92)\n",
    "iasi.add(vaslui, 92)\n",
    "iasi.add(neamt, 87)"
   ]
  },
  {
   "cell_type": "code",
   "execution_count": 84,
   "metadata": {},
   "outputs": [],
   "source": [
    "def buscaA(estado_inicial:NoA, estado_objetivo:NoA):\n",
    "    # listas de estados visitados\n",
    "    estados_visitados = []\n",
    "\n",
    "    # estado para visitar\n",
    "    para_visitar = [estado_inicial]\n",
    "\n",
    "    while len(para_visitar) != 0:\n",
    "        # pega o ultimo valor adicionado, mantendo o tipo pilha\n",
    "        visitar = para_visitar.pop(0)\n",
    "\n",
    "        # verifica se é o vizinho objetivo\n",
    "        if visitar == estado_objetivo:\n",
    "            # appende o vizinho objetivo\n",
    "            estados_visitados.append(visitar)\n",
    "            # retorna a lista do caminho encontrado\n",
    "            return estados_visitados\n",
    "\n",
    "        # se n for o objetivo, adiciona aos vizinhos visitados\n",
    "        estados_visitados.append(visitar)\n",
    "\n",
    "        # verificando melhor custo\n",
    "        if len(visitar.filhos) != 0:\n",
    "            nao_visitados = [x for x in visitar.filhos if x not in estados_visitados]\n",
    "\n",
    "            # pega o visinho de menor custo baseado na distancia e o custo da estrada\n",
    "            custos = [visitar.custo_estrada[cidade.data] + cidade.distancia for cidade in nao_visitados]\n",
    "            # pega o index de menor custo\n",
    "            index_menor_custo = custos.index(min(custos))\n",
    "            \n",
    "            para_visitar.append(nao_visitados[index_menor_custo])\n",
    "\n",
    "    raise Exception('Objetivo não encontrado!')"
   ]
  },
  {
   "cell_type": "code",
   "execution_count": 85,
   "metadata": {},
   "outputs": [
    {
     "name": "stdout",
     "output_type": "stream",
     "text": [
      "arad\n",
      "sibiu\n",
      "rimnieu\n",
      "pitesti\n",
      "bucharest\n"
     ]
    }
   ],
   "source": [
    "res = buscaA(arad, bucharest)\n",
    "\n",
    "for i in res:\n",
    "    print(i)"
   ]
  },
  {
   "cell_type": "code",
   "execution_count": null,
   "metadata": {},
   "outputs": [],
   "source": []
  }
 ],
 "metadata": {
  "interpreter": {
   "hash": "cbe59bc8e43c33e263d0ddce44ad7ec5ba3f57d4d2daa17d616eb06d4130f325"
  },
  "kernelspec": {
   "display_name": "Python 3.8.11 64-bit ('ia': conda)",
   "language": "python",
   "name": "python3"
  },
  "language_info": {
   "codemirror_mode": {
    "name": "ipython",
    "version": 3
   },
   "file_extension": ".py",
   "mimetype": "text/x-python",
   "name": "python",
   "nbconvert_exporter": "python",
   "pygments_lexer": "ipython3",
   "version": "3.8.11"
  },
  "orig_nbformat": 4
 },
 "nbformat": 4,
 "nbformat_minor": 2
}
