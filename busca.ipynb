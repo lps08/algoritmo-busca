{
 "cells": [
  {
   "cell_type": "markdown",
   "metadata": {},
   "source": [
    "## Definindo a classe Nó para a arvore"
   ]
  },
  {
   "cell_type": "code",
   "execution_count": 2,
   "metadata": {},
   "outputs": [],
   "source": [
    "class No:\n",
    "    def __ini__(self, data):\n",
    "        self.direita = None\n",
    "        self.esquerda = None\n",
    "        self.data = data"
   ]
  },
  {
   "cell_type": "markdown",
   "metadata": {},
   "source": [
    "## Busca em largura"
   ]
  },
  {
   "cell_type": "code",
   "execution_count": null,
   "metadata": {},
   "outputs": [],
   "source": [
    "def buscaLargura(estado_inicial:No, estado_objetivo:No):\n",
    "    # lista com os vizinhos a ser visitados\n",
    "    estados_visitados = []\n",
    "    # lista com os vizinhos a ser visitados\n",
    "    para_visitar = [estado_inicial]\n",
    "\n",
    "    while len(para_visitar) != 0:\n",
    "        # remove o primeiro visinho da lista para verificar se é o estado objetivo\n",
    "        visitar = para_visitar.pop(0)\n",
    "\n",
    "        # verifica se é o vizinho objetivo\n",
    "        if visitar == estado_objetivo:\n",
    "            # appenda o vizinho objetivo\n",
    "            estados_visitados.append(visitar)\n",
    "            # retorna o caminho com os vizinhos em ordem na lista\n",
    "            return estados_visitados\n",
    "\n",
    "        # se n for o objetivo, adiciona aos vizinhos visitados\n",
    "        estados_visitados.append(visitar)\n",
    "\n",
    "        # verifica se os nós tem algum dado\n",
    "        #caso tenha, adiciona na lista a ser visitado\n",
    "        if visitar.esquerda != None and visitar.esquerda not in estados_visitados:\n",
    "            para_visitar.append(visitar.esquerda)\n",
    "        \n",
    "        if visitar.direita != None and visitar.direita not in estados_visitados:\n",
    "            para_visitar.append(visitar.direita)\n",
    "\n",
    "    return None"
   ]
  },
  {
   "cell_type": "code",
   "execution_count": null,
   "metadata": {},
   "outputs": [],
   "source": []
  }
 ],
 "metadata": {
  "interpreter": {
   "hash": "cbe59bc8e43c33e263d0ddce44ad7ec5ba3f57d4d2daa17d616eb06d4130f325"
  },
  "kernelspec": {
   "display_name": "Python 3.8.11 64-bit ('ia': conda)",
   "language": "python",
   "name": "python3"
  },
  "language_info": {
   "codemirror_mode": {
    "name": "ipython",
    "version": 3
   },
   "file_extension": ".py",
   "mimetype": "text/x-python",
   "name": "python",
   "nbconvert_exporter": "python",
   "pygments_lexer": "ipython3",
   "version": "3.8.11"
  },
  "orig_nbformat": 4
 },
 "nbformat": 4,
 "nbformat_minor": 2
}
